{
 "cells": [
  {
   "cell_type": "code",
   "execution_count": 38,
   "metadata": {},
   "outputs": [
    {
     "name": "stdout",
     "output_type": "stream",
     "text": [
      "['table', 'sofa', 'shelf']\n",
      "['table', 'sofa']\n",
      "no sofa\n",
      "sofa found!\n",
      "no sofa\n"
     ]
    }
   ],
   "source": [
    "#1\n",
    "furniture = [\"table\", \"sofa\", \"shelf\"]\n",
    "print(furniture)\n",
    "print(furniture[0:2])\n",
    "for furniture in furniture:\n",
    "    if \"sofa\" in furniture:\n",
    "        print(\"sofa found!\")\n",
    "    else:\n",
    "        print(\"no sofa\")\n",
    "\n"
   ]
  },
  {
   "cell_type": "code",
   "execution_count": null,
   "metadata": {},
   "outputs": [
    {
     "name": "stdout",
     "output_type": "stream",
     "text": [
      "[4, 10, 4, 8, 3]\n",
      "29.0\n",
      "10\n"
     ]
    }
   ],
   "source": [
    "#2\n",
    "import random\n",
    "import math\n",
    "\n",
    "thrownDiceNumbers = []\n",
    "thrownDiceNumbers.insert(0, random.randint(1, 10))\n",
    "thrownDiceNumbers.insert(1, random.randint(1, 10))\n",
    "thrownDiceNumbers.insert(2, random.randint(1, 10))\n",
    "thrownDiceNumbers.insert(3, random.randint(1, 10))\n",
    "thrownDiceNumbers.insert(4, random.randint(1, 10))\n",
    "print(thrownDiceNumbers)\n",
    "print(math.fsum(thrownDiceNumbers))\n",
    "print(max(thrownDiceNumbers))\n",
    "\n",
    "\n",
    "\n"
   ]
  },
  {
   "cell_type": "code",
   "execution_count": 19,
   "metadata": {},
   "outputs": [
    {
     "name": "stdout",
     "output_type": "stream",
     "text": [
      "15\n",
      "18\n",
      "11\n",
      "16\n",
      "14\n"
     ]
    }
   ],
   "source": [
    "#3\n",
    "\n",
    "import random\n",
    "\n",
    "numbers = []\n",
    "\n",
    "i = 0\n",
    "while i<5:\n",
    "    randomNum = random.randint(1,20)\n",
    "    if randomNum not in numbers:\n",
    "        print(randomNum)\n",
    "        numbers.insert(0, randomNum)\n",
    "        i+=1"
   ]
  }
 ],
 "metadata": {
  "kernelspec": {
   "display_name": "Python 3",
   "language": "python",
   "name": "python3"
  },
  "language_info": {
   "codemirror_mode": {
    "name": "ipython",
    "version": 3
   },
   "file_extension": ".py",
   "mimetype": "text/x-python",
   "name": "python",
   "nbconvert_exporter": "python",
   "pygments_lexer": "ipython3",
   "version": "3.13.0"
  }
 },
 "nbformat": 4,
 "nbformat_minor": 2
}
