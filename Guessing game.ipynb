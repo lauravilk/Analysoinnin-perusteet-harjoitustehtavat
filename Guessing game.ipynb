{
 "cells": [
  {
   "cell_type": "code",
   "execution_count": 14,
   "metadata": {},
   "outputs": [
    {
     "name": "stdout",
     "output_type": "stream",
     "text": [
      "Guess my name?\n",
      "Wrong answer\n",
      "Do you want to quit (y/n) ?\n",
      "Guess my name?\n",
      "Wrong answer\n",
      "Do you want to quit (y/n) ?\n",
      "Guess my name?\n",
      "Congratulation!\n",
      "You guessed 3 times\n"
     ]
    }
   ],
   "source": [
    "name = \"Anna\"\n",
    "counter = 0\n",
    "\n",
    "while name == \"Anna\":\n",
    "    print (\"Guess my name?\")\n",
    "    arvaus = input()\n",
    "    counter +=1\n",
    "    if arvaus == name:\n",
    "        print(\"Congratulation!\")\n",
    "        print(\"You guessed\", counter, \"times\")\n",
    "        break\n",
    "    else:\n",
    "        print(\"Wrong answer\")\n",
    "        print(\"Do you want to quit (y/n) ?\")\n",
    "        if input(\"Do you want to quit (y/n) ?\") == \"n\":\n",
    "            continue\n",
    "        else:\n",
    "            print(\"You guessed\", counter, \"times\")\n",
    "            break\n",
    "\n",
    "        \n",
    "    \n"
   ]
  },
  {
   "cell_type": "code",
   "execution_count": null,
   "metadata": {},
   "outputs": [],
   "source": []
  }
 ],
 "metadata": {
  "kernelspec": {
   "display_name": "Python 3",
   "language": "python",
   "name": "python3"
  },
  "language_info": {
   "codemirror_mode": {
    "name": "ipython",
    "version": 3
   },
   "file_extension": ".py",
   "mimetype": "text/x-python",
   "name": "python",
   "nbconvert_exporter": "python",
   "pygments_lexer": "ipython3",
   "version": "3.13.0"
  }
 },
 "nbformat": 4,
 "nbformat_minor": 2
}
