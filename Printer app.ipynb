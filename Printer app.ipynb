{
 "cells": [
  {
   "cell_type": "code",
   "execution_count": 26,
   "metadata": {},
   "outputs": [
    {
     "name": "stdout",
     "output_type": "stream",
     "text": [
      "Printer App\n",
      "This app is made by:\n",
      "Laura\n",
      "The value of the number1 is  10\n",
      "The value of number2 is  5\n",
      "10 * 5 = 50\n",
      "10 + 5 = 15\n",
      "10 - 5 = 5\n",
      "10 / 5 = 2.0\n"
     ]
    }
   ],
   "source": [
    "\n",
    "creator = \"Laura\"\n",
    "number1 = 10\n",
    "number2 = 5\n",
    "multiplication = number1 * number2\n",
    "addition = number1 + number2\n",
    "substraction = number1 - number2\n",
    "division = number1 / number2\n",
    "\n",
    "print(\"Printer App\")\n",
    "print(\"This app is made by:\")\n",
    "print(creator)\n",
    "# print(number1)\n",
    "print(\"The value of the number1 is \", number1)\n",
    "print(\"The value of number2 is \", number2)\n",
    "print(number1, \"*\", number2, \"=\", multiplication)\n",
    "print(number1, \"+\", number2, \"=\", addition)\n",
    "print(number1, \"-\", number2, \"=\", substraction)\n",
    "print(number1, \"/\", number2, \"=\", division)\n",
    "\n",
    "\n",
    "\n",
    "\n",
    "\n"
   ]
  },
  {
   "cell_type": "code",
   "execution_count": null,
   "metadata": {},
   "outputs": [],
   "source": []
  }
 ],
 "metadata": {
  "kernelspec": {
   "display_name": "Python 3",
   "language": "python",
   "name": "python3"
  },
  "language_info": {
   "codemirror_mode": {
    "name": "ipython",
    "version": 3
   },
   "file_extension": ".py",
   "mimetype": "text/x-python",
   "name": "python",
   "nbconvert_exporter": "python",
   "pygments_lexer": "ipython3",
   "version": "3.13.0"
  }
 },
 "nbformat": 4,
 "nbformat_minor": 2
}
