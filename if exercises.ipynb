{
 "cells": [
  {
   "cell_type": "code",
   "execution_count": null,
   "metadata": {},
   "outputs": [
    {
     "name": "stdout",
     "output_type": "stream",
     "text": [
      "numbers are equal\n",
      "number1 is equal or greater than number2\n"
     ]
    }
   ],
   "source": [
    "# 1\n",
    "number1 = 8\n",
    "number2 = 8\n",
    "\n",
    "if number1 == number2:\n",
    "    print(\"numbers are equal\")\n",
    "\n",
    "if number1 > number2:\n",
    "    print(\"number 1 is greater than number2\")\n",
    "\n",
    "if number1 >= number2:\n",
    "    print(\"number1 is equal or greater than number2\")\n",
    "\n",
    "if number1 != number2:\n",
    "    print(\"numbers are not equal\")\n",
    "\n",
    "\n",
    "\n"
   ]
  },
  {
   "cell_type": "code",
   "execution_count": 18,
   "metadata": {},
   "outputs": [
    {
     "name": "stdout",
     "output_type": "stream",
     "text": [
      "number1 and number2 are equal or number2 and number 3 are equal\n",
      "number 2 is greater than number3\n",
      "number1 and number 2 are equal\n"
     ]
    }
   ],
   "source": [
    "#2\n",
    "number1 = 5\n",
    "number2 = 5\n",
    "number3 = 4\n",
    "\n",
    "if number1 == number2 == number3:\n",
    "    print(\"all numbers are equal\")\n",
    "if number1 == number2 or number2 == number3:\n",
    "    print(\"number1 and number2 are equal or number2 and number 3 are equal\")\n",
    "if number1 > number2:\n",
    "    print(\"number1 is greater than number2\")\n",
    "elif number2 > number3:\n",
    "    print(\"number 2 is greater than number3\")\n",
    "if number1 == number2:\n",
    "    print(\"number1 and number 2 are equal\")\n",
    "elif number1 == number3:\n",
    "    print(\"number1 and number3 are equal\")\n",
    "\n",
    "\n"
   ]
  },
  {
   "cell_type": "code",
   "execution_count": 23,
   "metadata": {},
   "outputs": [
    {
     "name": "stdout",
     "output_type": "stream",
     "text": [
      "name1 and name2 are not equal\n",
      "name1 and name3 are equal\n"
     ]
    }
   ],
   "source": [
    "#3\n",
    "name1 = \"Anna\"\n",
    "name2 = \"Hanna\"\n",
    "name3 = \"Anna\"\n",
    "\n",
    "if name1 == name2:\n",
    "    print(\"name1 and name2 are equal\")\n",
    "if name1 != name2:\n",
    "    print(\"name1 and name2 are not equal\")\n",
    "if name1 == name2:\n",
    "    print(\"name1 and name2 are equal\")\n",
    "elif name1 == name3:\n",
    "    print(\"name1 and name3 are equal\")\n"
   ]
  }
 ],
 "metadata": {
  "kernelspec": {
   "display_name": "Python 3",
   "language": "python",
   "name": "python3"
  },
  "language_info": {
   "codemirror_mode": {
    "name": "ipython",
    "version": 3
   },
   "file_extension": ".py",
   "mimetype": "text/x-python",
   "name": "python",
   "nbconvert_exporter": "python",
   "pygments_lexer": "ipython3",
   "version": "3.13.0"
  }
 },
 "nbformat": 4,
 "nbformat_minor": 2
}
